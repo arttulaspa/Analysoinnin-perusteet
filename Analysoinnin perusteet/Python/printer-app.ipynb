{
 "cells": [
  {
   "cell_type": "code",
   "execution_count": 44,
   "metadata": {},
   "outputs": [
    {
     "name": "stdout",
     "output_type": "stream",
     "text": [
      "Printer App\n",
      "This app is made by: Arttu\n",
      "The value of number1 is 5\n",
      "The value of number2 is 2\n",
      "5 * 2 = 10\n",
      "5 + 2 = 7\n",
      "5 : 2 = 2.5\n",
      "5 - 2 = 3\n"
     ]
    }
   ],
   "source": [
    "print(\"Printer App\")\n",
    "creator = \"Arttu\"\n",
    "print(\"This app is made by:\", creator)\n",
    "number1 = 5\n",
    "number2 = 2\n",
    "print(\"The value of number1 is\" , number1)\n",
    "print(\"The value of number2 is\" , number2)\n",
    "multiplication = number1 * number2\n",
    "addition = number1 + number2\n",
    "division = number1 / number2\n",
    "substraction = number1 - number2\n",
    "\n",
    "print(\"5 * 2 =\",multiplication)\n",
    "print(\"5 + 2 =\",addition)\n",
    "print(\"5 : 2 =\",division)\n",
    "print(\"5 - 2 =\",substraction)\n",
    "\n"
   ]
  },
  {
   "cell_type": "code",
   "execution_count": null,
   "metadata": {},
   "outputs": [
    {
     "data": {
      "text/plain": [
       "str"
      ]
     },
     "execution_count": 11,
     "metadata": {},
     "output_type": "execute_result"
    }
   ],
   "source": [
    "\n"
   ]
  }
 ],
 "metadata": {
  "kernelspec": {
   "display_name": "Python 3",
   "language": "python",
   "name": "python3"
  },
  "language_info": {
   "codemirror_mode": {
    "name": "ipython",
    "version": 3
   },
   "file_extension": ".py",
   "mimetype": "text/x-python",
   "name": "python",
   "nbconvert_exporter": "python",
   "pygments_lexer": "ipython3",
   "version": "3.13.0"
  }
 },
 "nbformat": 4,
 "nbformat_minor": 2
}
