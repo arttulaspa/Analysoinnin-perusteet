{
 "cells": [
  {
   "cell_type": "code",
   "execution_count": 12,
   "metadata": {},
   "outputs": [
    {
     "name": "stdout",
     "output_type": "stream",
     "text": [
      "0    10\n",
      "1    20\n",
      "2    30\n",
      "3    40\n",
      "4    50\n",
      "dtype: int64\n",
      "30\n",
      "30\n",
      "0   2024-01-01\n",
      "1   2024-02-02\n",
      "2   2024-03-03\n",
      "dtype: datetime64[ns]\n",
      "  City name  Population\n",
      "0   Kajaani       45964\n",
      "1  Helsinki     1103543\n",
      "2      Oulu      433544\n"
     ]
    }
   ],
   "source": [
    "import pandas as pandas\n",
    "\n",
    "#create a series using pandas\n",
    "data = [10,20,30,40,50]\n",
    "series = pandas.Series(data)\n",
    "print(series)\n",
    "print(series[2])\n",
    "\n",
    "#labelled series\n",
    "dt = [10,20,30,40]\n",
    "labels = ['A','B','C','D']\n",
    "series1 = pandas.Series(dt, index=labels)\n",
    "print(series1['C'])\n",
    "\n",
    "#mixed type series\n",
    "from datetime import datetime\n",
    "dates = [datetime(2024,1,1), datetime(2024,2,2), datetime(2024,3,3)]\n",
    "ds = pandas.Series(dates)\n",
    "print(ds)\n",
    "\n",
    "#creating dataframe objects\n",
    "city_names = pandas.Series(['Kajaani', 'Helsinki', 'Oulu'])\n",
    "population = pandas.Series([45964, 1103543, 433544])\n",
    "\n",
    "df = pandas.DataFrame({'City name' : city_names, 'Population': population})\n",
    "print(df)"
   ]
  }
 ],
 "metadata": {
  "kernelspec": {
   "display_name": "Python 3",
   "language": "python",
   "name": "python3"
  },
  "language_info": {
   "codemirror_mode": {
    "name": "ipython",
    "version": 3
   },
   "file_extension": ".py",
   "mimetype": "text/x-python",
   "name": "python",
   "nbconvert_exporter": "python",
   "pygments_lexer": "ipython3",
   "version": "3.13.0"
  }
 },
 "nbformat": 4,
 "nbformat_minor": 2
}
