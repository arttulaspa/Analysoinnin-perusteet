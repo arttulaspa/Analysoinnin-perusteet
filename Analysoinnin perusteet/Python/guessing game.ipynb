{
 "cells": [
  {
   "cell_type": "code",
   "execution_count": 2,
   "metadata": {},
   "outputs": [
    {
     "name": "stdout",
     "output_type": "stream",
     "text": [
      "guess a name\n",
      "thanks for playing\n"
     ]
    }
   ],
   "source": [
    "print(\"guess a name\")\n",
    "name = \"arttu\"\n",
    "\n",
    "while True:\n",
    "\n",
    "    guess = input(\"what is your name\")\n",
    "\n",
    "    if guess.lower() == name.lower():\n",
    "        print(\"congratulations!\")\n",
    "        break\n",
    "\n",
    "    else: uudestaan = input(\"do you want to play again y/n\").lower()\n",
    "    if uudestaan == \"n\":\n",
    "        print(\"thanks for playing\")\n",
    "        break\n",
    "    else: uudestaan == \"y\""
   ]
  }
 ],
 "metadata": {
  "kernelspec": {
   "display_name": "Python 3",
   "language": "python",
   "name": "python3"
  },
  "language_info": {
   "codemirror_mode": {
    "name": "ipython",
    "version": 3
   },
   "file_extension": ".py",
   "mimetype": "text/x-python",
   "name": "python",
   "nbconvert_exporter": "python",
   "pygments_lexer": "ipython3",
   "version": "3.13.0"
  }
 },
 "nbformat": 4,
 "nbformat_minor": 2
}
