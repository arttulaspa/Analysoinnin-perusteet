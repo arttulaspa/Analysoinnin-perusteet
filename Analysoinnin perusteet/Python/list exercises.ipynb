{
 "cells": [
  {
   "cell_type": "code",
   "execution_count": null,
   "metadata": {},
   "outputs": [
    {
     "name": "stdout",
     "output_type": "stream",
     "text": [
      "['table', 'chair', 'shelf', 'sofa']\n",
      "['table', 'chair']\n",
      "Sofa is found\n"
     ]
    }
   ],
   "source": [
    "furniture = [\"table\", \"chair\", \"shelf\", \"sofa\"]\n",
    "print(furniture)\n",
    "print(furniture[:2])\n",
    "\n",
    "for furniture in furniture:\n",
    "    if \"sofa\" in furniture:\n",
    "        print(\"found sofa\")"
   ]
  },
  {
   "cell_type": "code",
   "execution_count": 72,
   "metadata": {},
   "outputs": [
    {
     "name": "stdout",
     "output_type": "stream",
     "text": [
      "[6311, 5197, 6359, 5901, 7963]\n",
      "31731\n",
      "7963\n"
     ]
    }
   ],
   "source": [
    "from random import randint, random\n",
    "\n",
    "thrownDiceNumbers = [randint(1,9999) , randint(1,9999) , randint(1,9999) , randint(1,9999) , randint(1,9999)]\n",
    "\n",
    "print(thrownDiceNumbers)\n",
    "\n",
    "print(sum(thrownDiceNumbers))\n",
    "\n",
    "maximum_number = max(thrownDiceNumbers)\n",
    "print(maximum_number)\n",
    "\n"
   ]
  }
 ],
 "metadata": {
  "kernelspec": {
   "display_name": "Python 3",
   "language": "python",
   "name": "python3"
  },
  "language_info": {
   "codemirror_mode": {
    "name": "ipython",
    "version": 3
   },
   "file_extension": ".py",
   "mimetype": "text/x-python",
   "name": "python",
   "nbconvert_exporter": "python",
   "pygments_lexer": "ipython3",
   "version": "3.13.0"
  }
 },
 "nbformat": 4,
 "nbformat_minor": 2
}
